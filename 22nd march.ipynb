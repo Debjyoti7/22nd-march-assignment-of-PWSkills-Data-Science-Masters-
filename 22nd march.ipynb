{
 "cells": [
  {
   "cell_type": "markdown",
   "id": "498191ec-fac1-4cc5-ab46-304470c7427c",
   "metadata": {},
   "source": [
    "# Q1. Pearson correlation coefficient is a measure of the linear relationship between two variables. Suppose you have collected data on the amount of time students spend studying for an exam and their final exam scores. Calculate the Pearson correlation coefficient between these two variables and interpret the result."
   ]
  },
  {
   "cell_type": "markdown",
   "id": "2503da03-8dc4-40cb-be0f-5633891c35bf",
   "metadata": {},
   "source": [
    "## To calculate the Pearson correlation coefficient between the amount of time students spend studying for an exam and their final exam scores, you first need to compute the covariance and the standard deviation for each variable. Let's denote the amount of time students spend studying as X, and their final exam scores as Y. Then, the formula for the Pearson correlation coefficient (r) is:\n",
    "## r = Cov(X,Y) / (SD(X) * SD(Y))\n",
    "## where Cov(X,Y) is the covariance between X and Y, SD(X) is the standard deviation of X, and SD(Y) is the standard deviation of Y.\n",
    "## Once you have calculated the covariance and standard deviations, you can plug them into the formula to find the value of r.\n",
    "## Interpreting the result of the Pearson correlation coefficient:\n",
    "## If r is close to +1, it indicates a strong positive linear relationship between the two variables. This means that as one variable (in this case, the amount of time spent studying) increases, the other variable (final exam scores) also tends to increase.\n",
    "## If r is close to -1, it indicates a strong negative linear relationship between the two variables. This means that as one variable increases, the other tends to decrease.\n",
    "## If r is close to 0, it indicates that there is little or no linear relationship between the two variables.\n",
    "## It is important to note that the Pearson correlation coefficient only measures linear relationships between variables. It does not capture non-linear relationships or other types of associations between variables. Additionally, correlation does not imply causation, and other factors may be influencing the relationship between the variables."
   ]
  },
  {
   "cell_type": "markdown",
   "id": "a68fddba-b65a-47bc-9d3c-67ae1d7ad1dd",
   "metadata": {},
   "source": [
    "# Q2. Spearman's rank correlation is a measure of the monotonic relationship between two variables. Suppose you have collected data on the amount of sleep individuals get each night and their overall job satisfaction level on a scale of 1 to 10. Calculate the Spearman's rank correlation between these two variables and interpret the result."
   ]
  },
  {
   "cell_type": "markdown",
   "id": "fd3cbd99-2822-41fb-9622-647913fcb306",
   "metadata": {},
   "source": [
    "## To calculate the Spearman's rank correlation between the amount of sleep individuals get each night and their overall job satisfaction level, we need to first rank each variable from lowest to highest. Let's denote the amount of sleep as X and job satisfaction as Y. Then, we can rank each variable separately and create a new set of variables, denoted as R(X) and R(Y), which contain the ranks of each variable.\n",
    "## Once we have the ranked variables, we can calculate the Spearman's rank correlation coefficient (r) using the following formula:\n",
    "## r = 1 - (6 * ΣD^2)/(n*(n^2-1))\n",
    "## where ΣD^2 is the sum of squared differences between the ranks of X and Y, n is the number of observations.\n",
    "## Interpreting the result of the Spearman's rank correlation:\n",
    "## If r is close to +1, it indicates a strong positive monotonic relationship between the two variables. This means that as one variable (in this case, the amount of sleep individuals get) increases, the other variable (job satisfaction) tends to increase as well, even if the relationship is not linear.\n",
    "## If r is close to -1, it indicates a strong negative monotonic relationship between the two variables. This means that as one variable increases, the other variable tends to decrease.\n",
    "## If r is close to 0, it indicates that there is little or no monotonic relationship between the two variables.\n",
    "## It is important to note that the Spearman's rank correlation only measures monotonic relationships between variables, and it may not capture other types of associations between variables. Additionally, correlation does not imply causation, and other factors may be influencing the relationship between the variables."
   ]
  },
  {
   "cell_type": "markdown",
   "id": "2e3f9089-346b-4f88-9fd6-c9df1361aeab",
   "metadata": {},
   "source": [
    "# Q3. Suppose you are conducting a study to examine the relationship between the number of hours of exercise per week and body mass index (BMI) in a sample of adults. You collected data on both variables for 50 participants. Calculate the Pearson correlation coefficient and the Spearman's rank correlation between these two variables and compare the results."
   ]
  },
  {
   "cell_type": "markdown",
   "id": "76ca056f-44da-422f-a62b-40e4d2b44499",
   "metadata": {},
   "source": [
    "## To calculate the Pearson correlation coefficient and the Spearman's rank correlation coefficient between the number of hours of exercise per week and body mass index (BMI) in a sample of adults, you first need to calculate the covariance and standard deviation for each variable.\n",
    "## Let's denote the number of hours of exercise per week as X and the BMI as Y. Then, you can use the following formulas to calculate the Pearson correlation coefficient (r) and the Spearman's rank correlation coefficient (rs):\n",
    "## Pearson correlation coefficient:\n",
    "## r = Cov(X,Y) / (SD(X) * SD(Y))\n",
    "## Spearman's rank correlation coefficient:\n",
    "## rs = 1 - (6 * ΣD^2)/(n*(n^2-1))\n",
    "## where ΣD^2 is the sum of squared differences between the ranks of X and Y, n is the number of observations.\n",
    "## Once you have calculated the covariance and standard deviations, you can plug them into the formulas to find the values of r and rs.\n",
    "## Comparing the results:\n",
    "## The Pearson correlation coefficient measures the linear relationship between two variables, while the Spearman's rank correlation coefficient measures the monotonic relationship between two variables. If the relationship between the two variables is linear, then the Pearson correlation coefficient will be higher than the Spearman's rank correlation coefficient. On the other hand, if the relationship is monotonic but not necessarily linear, then the Spearman's rank correlation coefficient will be higher than the Pearson correlation coefficient.\n",
    "## If the Pearson correlation coefficient is close to +1, it indicates a strong positive linear relationship between the two variables. If the Spearman's rank correlation coefficient is close to +1, it indicates a strong positive monotonic relationship between the two variables. If both coefficients are close to +1, it suggests that the relationship between the two variables is both linear and monotonic.\n",
    "## If the Pearson correlation coefficient is close to -1, it indicates a strong negative linear relationship between the two variables. If the Spearman's rank correlation coefficient is close to -1, it indicates a strong negative monotonic relationship between the two variables. If both coefficients are close to -1, it suggests that the relationship between the two variables is both linear and monotonic, but negative.\n",
    "## If both coefficients are close to 0, it indicates that there is little or no relationship between the two variables.\n",
    "\n",
    "## Therefore, by comparing the values of r and rs, you can determine whether the relationship between the number of hours of exercise per week and BMI is linear, monotonic, or both."
   ]
  },
  {
   "cell_type": "markdown",
   "id": "b92f8663-3b7d-402f-8c27-fb4a91842a00",
   "metadata": {},
   "source": [
    "# Q4. A researcher is interested in examining the relationship between the number of hours individuals spend watching television per day and their level of physical activity. The researcher collected data on both variables from a sample of 50 participants. Calculate the Pearson correlation coefficient between these two variables."
   ]
  },
  {
   "cell_type": "markdown",
   "id": "b10f96da-3973-4b72-a65e-cbcd35d85c09",
   "metadata": {},
   "source": [
    "## To calculate the Pearson correlation coefficient, we need to have pairs of observations for both variables: the number of hours individuals spend watching television per day and their level of physical activity. Once we have these pairs of observations, we can compute the correlation coefficient using the following formula:\n",
    "## r = (nΣXY - ΣXΣY) / sqrt[(nΣX^2 - (ΣX)^2)(nΣY^2 - (ΣY)^2)]\n",
    "## where:\n",
    "## n = the number of pairs of observations\n",
    "## ΣXY = the sum of the products of the paired observations\n",
    "## ΣX = the sum of the X variable\n",
    "## ΣY = the sum of the Y variable\n",
    "## ΣX^2 = the sum of the squared X values\n",
    "## ΣY^2 = the sum of the squared Y values\n",
    "## Assuming that we have the pairs of observations for the 50 participants, we can calculate the correlation coefficient using statistical software or a calculator.\n",
    "## For example, if we input the pairs of observations into a statistical software program, it might give us the following output:\n",
    "## Correlations\n",
    "## Hours of TV Physical activity\n",
    "## Hours of TV 1.000 -0.634**\n",
    "## Physical activity -0.634** 1.000\n",
    "\n",
    "## Correlation is significant at the 0.01 level (2-tailed).\n",
    "\n",
    "## This output shows that the Pearson correlation coefficient between the number of hours individuals spend watching television per day and their level of physical activity is -0.634. This coefficient indicates a moderate negative relationship between the two variables. In other words, as the number of hours individuals spend watching television per day increases, their level of physical activity tends to decrease."
   ]
  },
  {
   "cell_type": "markdown",
   "id": "ae54aef8-92ac-45c9-b69c-b18febc4c971",
   "metadata": {},
   "source": [
    "# Q5. A survey was conducted to examine the relationship between age and preference for a particular brand of soft drink."
   ]
  },
  {
   "cell_type": "code",
   "execution_count": 25,
   "id": "a12f1669-1903-4656-b74b-988fd72dc184",
   "metadata": {},
   "outputs": [
    {
     "name": "stdout",
     "output_type": "stream",
     "text": [
      "   Age Soft drink Preference\n",
      "0   25                  coke\n",
      "1   42                 pepsi\n",
      "2   37          Mountain dew\n",
      "3   19                  coke\n",
      "4   31                 pepsi\n",
      "5   28                  coke\n"
     ]
    }
   ],
   "source": [
    "import pandas as pd\n",
    "data = {'Age' : [25,42,37,19,31,28],\n",
    "      'Soft drink Preference' : ['coke','pepsi','Mountain dew', 'coke', 'pepsi', 'coke']\n",
    "}\n",
    "df = pd.DataFrame(data)\n",
    "print(df)"
   ]
  },
  {
   "cell_type": "code",
   "execution_count": 26,
   "id": "bacdb02c-e16e-40f1-b831-44fb43f4f1f2",
   "metadata": {},
   "outputs": [
    {
     "name": "stderr",
     "output_type": "stream",
     "text": [
      "/tmp/ipykernel_585/466772113.py:2: FutureWarning: The default value of numeric_only in DataFrame.cov is deprecated. In a future version, it will default to False. Select only valid columns or specify the value of numeric_only to silence this warning.\n",
      "  df.cov()\n"
     ]
    },
    {
     "data": {
      "text/html": [
       "<div>\n",
       "<style scoped>\n",
       "    .dataframe tbody tr th:only-of-type {\n",
       "        vertical-align: middle;\n",
       "    }\n",
       "\n",
       "    .dataframe tbody tr th {\n",
       "        vertical-align: top;\n",
       "    }\n",
       "\n",
       "    .dataframe thead th {\n",
       "        text-align: right;\n",
       "    }\n",
       "</style>\n",
       "<table border=\"1\" class=\"dataframe\">\n",
       "  <thead>\n",
       "    <tr style=\"text-align: right;\">\n",
       "      <th></th>\n",
       "      <th>Age</th>\n",
       "    </tr>\n",
       "  </thead>\n",
       "  <tbody>\n",
       "    <tr>\n",
       "      <th>Age</th>\n",
       "      <td>68.666667</td>\n",
       "    </tr>\n",
       "  </tbody>\n",
       "</table>\n",
       "</div>"
      ],
      "text/plain": [
       "           Age\n",
       "Age  68.666667"
      ]
     },
     "execution_count": 26,
     "metadata": {},
     "output_type": "execute_result"
    }
   ],
   "source": [
    "import numpy as np\n",
    "df.cov()"
   ]
  },
  {
   "cell_type": "code",
   "execution_count": 27,
   "id": "97a7181b-740f-4299-bf61-edef7e1fcee7",
   "metadata": {},
   "outputs": [
    {
     "data": {
      "text/plain": [
       "Age                      6\n",
       "Soft drink Preference    3\n",
       "dtype: int64"
      ]
     },
     "execution_count": 27,
     "metadata": {},
     "output_type": "execute_result"
    }
   ],
   "source": [
    "df.nunique()"
   ]
  },
  {
   "cell_type": "code",
   "execution_count": 31,
   "id": "dcad30c0-8742-46f9-9b50-ff24bbd3ba6e",
   "metadata": {},
   "outputs": [
    {
     "data": {
      "text/plain": [
       "<AxesSubplot: ylabel='Count'>"
      ]
     },
     "execution_count": 31,
     "metadata": {},
     "output_type": "execute_result"
    },
    {
     "data": {
      "image/png": "[encoded data removed]",
      "text/plain": [
       "<Figure size 640x480 with 1 Axes>"
      ]
     },
     "metadata": {},
     "output_type": "display_data"
    }
   ],
   "source": [
    "import seaborn as sns\n",
    "sns.histplot( data=df)"
   ]
  },
  {
   "cell_type": "markdown",
   "id": "23b3b1af-fcc9-4539-96fd-5d982d4a96ac",
   "metadata": {},
   "source": [
    "# Q6. A company is interested in examining the relationship between the number of sales calls made per day and the number of sales made per week. The company collected data on both variables from a sample of 30 sales representatives. Calculate the Pearson correlation coefficient between these two variables."
   ]
  },
  {
   "cell_type": "markdown",
   "id": "7a47b123-1935-481e-afc7-f1abc98e3074",
   "metadata": {},
   "source": [
    "## To calculate the Pearson correlation coefficient between the number of sales calls made per day and the number of sales made per week, you need to follow these steps:\n",
    "## 1. Calculate the mean and standard deviation of the number of sales calls made per day and the number of sales made per week in the sample.\n",
    "## 2. Calculate the covariance between the number of sales calls made per day and the number of sales made per week in the sample.\n",
    "## 3. Calculate the Pearson correlation coefficient using the formula:\n",
    "## r = cov(X,Y) / (sd(X) * sd(Y))\n",
    "## where cov(X,Y) is the covariance between X and Y, sd(X) is the standard deviation of X, and sd(Y) is the standard deviation of Y."
   ]
  },
  {
   "cell_type": "code",
   "execution_count": null,
   "id": "e0bec4cd-7aaa-4584-a6d0-52b9dae0a3e1",
   "metadata": {},
   "outputs": [],
   "source": []
  }
 ],
 "metadata": {
  "kernelspec": {
   "display_name": "Python 3 (ipykernel)",
   "language": "python",
   "name": "python3"
  },
  "language_info": {
   "codemirror_mode": {
    "name": "ipython",
    "version": 3
   },
   "file_extension": ".py",
   "mimetype": "text/x-python",
   "name": "python",
   "nbconvert_exporter": "python",
   "pygments_lexer": "ipython3",
   "version": "3.10.8"
  }
 },
 "nbformat": 4,
 "nbformat_minor": 5
}
